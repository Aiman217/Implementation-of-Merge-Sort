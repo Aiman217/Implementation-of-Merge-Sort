{
  "nbformat": 4,
  "nbformat_minor": 0,
  "metadata": {
    "colab": {
      "name": "WMU102_Project.ipynb",
      "provenance": [],
      "authorship_tag": "ABX9TyNa/k5sHzsVMRZx9qKLrvtp",
      "include_colab_link": true
    },
    "kernelspec": {
      "name": "python3",
      "display_name": "Python 3"
    },
    "language_info": {
      "name": "python"
    }
  },
  "cells": [
    {
      "cell_type": "markdown",
      "metadata": {
        "id": "view-in-github",
        "colab_type": "text"
      },
      "source": [
        "<a href=\"https://colab.research.google.com/github/Aiman217/Implementation-of-Merge-Sort/blob/main/WMU102_Project.ipynb\" target=\"_parent\"><img src=\"https://colab.research.google.com/assets/colab-badge.svg\" alt=\"Open In Colab\"/></a>"
      ]
    },
    {
      "cell_type": "markdown",
      "source": [
        "\n",
        "**This is the project for course WMU102**"
      ],
      "metadata": {
        "id": "mg9kxrdm2sHZ"
      }
    },
    {
      "cell_type": "code",
      "execution_count": 2,
      "metadata": {
        "colab": {
          "base_uri": "https://localhost:8080/"
        },
        "id": "GNKWBhkjmx-Y",
        "outputId": "8a8a3442-c5d3-4061-d44b-acbbf82b25c3"
      },
      "outputs": [
        {
          "output_type": "stream",
          "name": "stdout",
          "text": [
            "Testing\n"
          ]
        }
      ],
      "source": [
        "print(\"Testing\")"
      ]
    }
  ]
}